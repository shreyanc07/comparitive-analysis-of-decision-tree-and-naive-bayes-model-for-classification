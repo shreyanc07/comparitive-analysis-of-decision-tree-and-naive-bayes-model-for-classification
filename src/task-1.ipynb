{
 "cells": [
  {
   "attachments": {},
   "cell_type": "markdown",
   "metadata": {},
   "source": [
    "# Importing datasets"
   ]
  },
  {
   "cell_type": "code",
   "execution_count": 77,
   "metadata": {},
   "outputs": [],
   "source": [
    "import os\n",
    "import numpy as np\n",
    "import pandas as pd\n",
    "\n",
    "import matplotlib.pyplot as plt\n",
    "import seaborn as sns\n",
    "plt.rcParams['figure.figsize'] = 12, 12\n",
    "sns.set_style('darkgrid')"
   ]
  },
  {
   "cell_type": "code",
   "execution_count": 78,
   "metadata": {},
   "outputs": [],
   "source": [
    "import sklearn\n",
    "from sklearn.tree import DecisionTreeClassifier\n",
    "from sklearn.model_selection import train_test_split\n",
    "from sklearn.preprocessing import LabelEncoder, OneHotEncoder, OrdinalEncoder\n",
    "\n",
    "from sklearn.metrics import accuracy_score, confusion_matrix, classification_report, f1_score, precision_score, recall_score"
   ]
  },
  {
   "cell_type": "code",
   "execution_count": 79,
   "metadata": {},
   "outputs": [],
   "source": [
    "DATA_DIR = os.path.join(\"..\", \"data\")\n",
    "df = pd.read_csv(\n",
    "    os.path.join(DATA_DIR, \"bank-additional-full.csv\"), \n",
    "    sep=\";\",\n",
    ")"
   ]
  },
  {
   "attachments": {},
   "cell_type": "markdown",
   "metadata": {},
   "source": [
    "# EDA"
   ]
  },
  {
   "cell_type": "code",
   "execution_count": 40,
   "metadata": {},
   "outputs": [],
   "source": []
  },
  {
   "cell_type": "code",
   "execution_count": 36,
   "metadata": {},
   "outputs": [
    {
     "name": "stdout",
     "output_type": "stream",
     "text": [
      "<class 'pandas.core.frame.DataFrame'>\n",
      "RangeIndex: 41188 entries, 0 to 41187\n",
      "Data columns (total 21 columns):\n",
      " #   Column          Non-Null Count  Dtype  \n",
      "---  ------          --------------  -----  \n",
      " 0   age             41188 non-null  int64  \n",
      " 1   job             40858 non-null  object \n",
      " 2   marital         41108 non-null  object \n",
      " 3   education       39457 non-null  object \n",
      " 4   default         32591 non-null  object \n",
      " 5   housing         40198 non-null  object \n",
      " 6   loan            40198 non-null  object \n",
      " 7   contact         41188 non-null  object \n",
      " 8   month           41188 non-null  object \n",
      " 9   day_of_week     41188 non-null  object \n",
      " 10  duration        41188 non-null  int64  \n",
      " 11  campaign        41188 non-null  int64  \n",
      " 12  pdays           41188 non-null  int64  \n",
      " 13  previous        41188 non-null  int64  \n",
      " 14  poutcome        41188 non-null  object \n",
      " 15  emp.var.rate    41188 non-null  float64\n",
      " 16  cons.price.idx  41188 non-null  float64\n",
      " 17  cons.conf.idx   41188 non-null  float64\n",
      " 18  euribor3m       41188 non-null  float64\n",
      " 19  nr.employed     41188 non-null  float64\n",
      " 20  y               41188 non-null  object \n",
      "dtypes: float64(5), int64(5), object(11)\n",
      "memory usage: 6.6+ MB\n"
     ]
    }
   ],
   "source": [
    "df.info()"
   ]
  },
  {
   "cell_type": "code",
   "execution_count": 32,
   "metadata": {},
   "outputs": [],
   "source": [
    "categorical_columns = [c for c in df if df[c].dtype == 'object']\n",
    "numeric_columns = [c for c in df.columns if c not in categorical_columns]"
   ]
  },
  {
   "attachments": {},
   "cell_type": "markdown",
   "metadata": {},
   "source": [
    "## Preprocessing steps to be performed\n",
    "\n",
    "$\\textcolor{#AED6F1}{\\underline{\\textbf{Client data}}}$\n",
    "1. Columns to be one-hot encoded:\n",
    "    - _`job`_\n",
    "    - _`marital`_\n",
    "    - _`education`_\n",
    "    - _`month`_\n",
    "2. Check goodness of fit test between _`contact`_ and _`y`_. Whether _`contact`_ is doing anything necessary at all.\n",
    "3. Keep _`day`_? \n",
    "4. Undecided on _`duration`_\n",
    "\n",
    "$\\textcolor{#A3E4D7}{\\underline{\\textbf{Other data}}}$  \n",
    "\n",
    "5. Drop _`pdays`_\n",
    "6. _`poutcome`_ == _`nonexistent`_ probably implies that this is that client's first campaign\n",
    "\n",
    "$\\textcolor{#F9E79F}{\\underline{\\textbf{Social attributes}}}$  \n",
    "\n",
    "7. Drop all these\n",
    "\n"
   ]
  },
  {
   "cell_type": "code",
   "execution_count": 59,
   "metadata": {},
   "outputs": [],
   "source": [
    "# how mamy unknowns are there in all the categorical columns?\n",
    "def show_perc_unknown(df):\n",
    "    perc = {}\n",
    "    for c in categorical_columns:\n",
    "        try:\n",
    "            perc[c] = [\n",
    "                df[c].value_counts(normalize=True)['unknown'] * 100,\n",
    "                df[c].value_counts()['unknown'],\n",
    "            ]\n",
    "        except:\n",
    "            perc[c] = [0, 0]\n",
    "\n",
    "    print(pd.Series(perc))\n",
    "\n",
    "# categorical columns where mssing are to be dropped:\n",
    "# - job\n",
    "# - marital\n",
    "# - "
   ]
  },
  {
   "cell_type": "code",
   "execution_count": 92,
   "metadata": {},
   "outputs": [
    {
     "data": {
      "text/plain": [
       "contact    y  \n",
       "cellular   no     22291\n",
       "           yes     3853\n",
       "telephone  no     14257\n",
       "           yes      787\n",
       "Name: y, dtype: int64"
      ]
     },
     "execution_count": 92,
     "metadata": {},
     "output_type": "execute_result"
    }
   ],
   "source": [
    "df.groupby(\"contact\")[\"y\"] \\\n",
    "    .value_counts()"
   ]
  },
  {
   "cell_type": "code",
   "execution_count": 60,
   "metadata": {},
   "outputs": [
    {
     "name": "stdout",
     "output_type": "stream",
     "text": [
      "job            [0.8012042342429834, 330]\n",
      "marital         [0.1942313295134505, 80]\n",
      "education      [4.202680392347285, 1731]\n",
      "default        [20.87258424783918, 8597]\n",
      "housing          [2.40361270272895, 990]\n",
      "loan             [2.40361270272895, 990]\n",
      "contact                           [0, 0]\n",
      "month                             [0, 0]\n",
      "day_of_week                       [0, 0]\n",
      "poutcome                          [0, 0]\n",
      "y                                 [0, 0]\n",
      "dtype: object\n"
     ]
    }
   ],
   "source": [
    "show_perc_unknown(df)"
   ]
  },
  {
   "cell_type": "code",
   "execution_count": 64,
   "metadata": {},
   "outputs": [
    {
     "name": "stdout",
     "output_type": "stream",
     "text": [
      "job                                [0, 0]\n",
      "marital                            [0, 0]\n",
      "education      [3.9130114987618607, 1596]\n",
      "default        [20.683060779169836, 8436]\n",
      "housing         [2.4125334052516734, 984]\n",
      "loan            [2.4125334052516734, 984]\n",
      "contact                            [0, 0]\n",
      "month                              [0, 0]\n",
      "day_of_week                        [0, 0]\n",
      "poutcome                           [0, 0]\n",
      "y                                  [0, 0]\n",
      "dtype: object\n"
     ]
    }
   ],
   "source": [
    "show_perc_unknown(df\n",
    "    .query(\"job != 'unknown'\")    \\\n",
    "    .query(\"marital != 'unknown'\")  \\\n",
    "    .loc[:,:]\n",
    ")"
   ]
  },
  {
   "cell_type": "code",
   "execution_count": 83,
   "metadata": {},
   "outputs": [
    {
     "data": {
      "text/plain": [
       "pdays\n",
       "999      956\n",
       "3         10\n",
       "6          8\n",
       "10         4\n",
       "4          3\n",
       "7          2\n",
       "8          2\n",
       "9          2\n",
       "12         2\n",
       "2          1\n",
       "dtype: int64"
      ]
     },
     "execution_count": 83,
     "metadata": {},
     "output_type": "execute_result"
    }
   ],
   "source": [
    "df.query(\"housing =='unknown'\") \\\n",
    "    .filter(items=['pdays']) \\\n",
    "    .value_counts()"
   ]
  },
  {
   "cell_type": "code",
   "execution_count": 84,
   "metadata": {},
   "outputs": [
    {
     "data": {
      "text/plain": [
       "pdays\n",
       "999      39673\n",
       "3          439\n",
       "6          412\n",
       "4          118\n",
       "9           64\n",
       "2           61\n",
       "7           60\n",
       "12          58\n",
       "10          52\n",
       "5           46\n",
       "13          36\n",
       "11          28\n",
       "1           26\n",
       "15          24\n",
       "14          20\n",
       "8           18\n",
       "0           15\n",
       "16          11\n",
       "17           8\n",
       "18           7\n",
       "19           3\n",
       "22           3\n",
       "21           2\n",
       "20           1\n",
       "25           1\n",
       "26           1\n",
       "27           1\n",
       "dtype: int64"
      ]
     },
     "execution_count": 84,
     "metadata": {},
     "output_type": "execute_result"
    }
   ],
   "source": [
    "df.filter(items=['pdays']).value_counts()"
   ]
  },
  {
   "cell_type": "code",
   "execution_count": null,
   "metadata": {},
   "outputs": [],
   "source": [
    "sns.histplot(\n",
    "    data = df,\n",
    "    x = 'nr.employed'\n",
    ")"
   ]
  },
  {
   "cell_type": "code",
   "execution_count": 76,
   "metadata": {},
   "outputs": [
    {
     "data": {
      "text/plain": [
       "<AxesSubplot: xlabel='poutcome', ylabel='count'>"
      ]
     },
     "execution_count": 76,
     "metadata": {},
     "output_type": "execute_result"
    },
    {
     "data": {
      "image/png": "[encoded data removed]",
      "text/plain": [
       "<Figure size 864x864 with 1 Axes>"
      ]
     },
     "metadata": {},
     "output_type": "display_data"
    }
   ],
   "source": [
    "sns.countplot(\n",
    "    data = df,\n",
    "    x = \"poutcome\",\n",
    "    hue = \"y\",\n",
    ")"
   ]
  },
  {
   "cell_type": "code",
   "execution_count": 5,
   "metadata": {},
   "outputs": [],
   "source": [
    "categorical_encoded_ordinal = pd.DataFrame(\n",
    "    OrdinalEncoder().fit_transform(df[categorical_columns]),\n",
    "    columns=categorical_columns\n",
    ")\n",
    "\n",
    "df_ord_enc = pd.concat(\n",
    "    [\n",
    "        df[numeric_columns],\n",
    "        categorical_encoded_ordinal\n",
    "    ],\n",
    "    axis=1\n",
    ")\n",
    "df_ord_enc.drop(columns=['pdays'], inplace=True)"
   ]
  },
  {
   "attachments": {},
   "cell_type": "markdown",
   "metadata": {},
   "source": [
    "# MODEL"
   ]
  },
  {
   "cell_type": "code",
   "execution_count": 12,
   "metadata": {},
   "outputs": [],
   "source": [
    "dtree = DecisionTreeClassifier()\n",
    "X, y = df_ord_enc.drop(columns=\"y\"), df_ord_enc[\"y\"]\n",
    "X_train, X_test, y_train, y_test = train_test_split(X, y)"
   ]
  },
  {
   "cell_type": "code",
   "execution_count": 18,
   "metadata": {},
   "outputs": [],
   "source": [
    "dtree.fit(X_train, y_train)\n",
    "y_pred = dtree.predict(X_test)"
   ]
  },
  {
   "cell_type": "code",
   "execution_count": 20,
   "metadata": {},
   "outputs": [
    {
     "name": "stdout",
     "output_type": "stream",
     "text": [
      "              precision    recall  f1-score   support\n",
      "\n",
      "         0.0       0.94      0.93      0.94      9135\n",
      "         1.0       0.51      0.54      0.53      1162\n",
      "\n",
      "    accuracy                           0.89     10297\n",
      "   macro avg       0.73      0.74      0.73     10297\n",
      "weighted avg       0.89      0.89      0.89     10297\n",
      "\n"
     ]
    }
   ],
   "source": [
    "print(classification_report(y_test, y_pred))"
   ]
  },
  {
   "cell_type": "code",
   "execution_count": 21,
   "metadata": {},
   "outputs": [],
   "source": [
    "from xgboost import XGBClassifier"
   ]
  },
  {
   "cell_type": "code",
   "execution_count": 22,
   "metadata": {},
   "outputs": [
    {
     "name": "stdout",
     "output_type": "stream",
     "text": [
      "              precision    recall  f1-score   support\n",
      "\n",
      "         0.0       0.94      0.96      0.95      9135\n",
      "         1.0       0.64      0.54      0.59      1162\n",
      "\n",
      "    accuracy                           0.91     10297\n",
      "   macro avg       0.79      0.75      0.77     10297\n",
      "weighted avg       0.91      0.91      0.91     10297\n",
      "\n"
     ]
    }
   ],
   "source": [
    "xgb = XGBClassifier()\n",
    "xgb.fit(X_train, y_train)\n",
    "y_pred = xgb.predict(X_test)\n",
    "print(classification_report(y_test, y_pred))"
   ]
  },
  {
   "cell_type": "code",
   "execution_count": null,
   "metadata": {},
   "outputs": [],
   "source": []
  }
 ],
 "metadata": {
  "kernelspec": {
   "display_name": "Python 3",
   "language": "python",
   "name": "python3"
  },
  "language_info": {
   "codemirror_mode": {
    "name": "ipython",
    "version": 3
   },
   "file_extension": ".py",
   "mimetype": "text/x-python",
   "name": "python",
   "nbconvert_exporter": "python",
   "pygments_lexer": "ipython3",
   "version": "3.10.6"
  },
  "orig_nbformat": 4,
  "vscode": {
   "interpreter": {
    "hash": "d25902f113cb4dbd517154651829d71a667e371374905448337c195d86b0b7cb"
   }
  }
 },
 "nbformat": 4,
 "nbformat_minor": 2
}
